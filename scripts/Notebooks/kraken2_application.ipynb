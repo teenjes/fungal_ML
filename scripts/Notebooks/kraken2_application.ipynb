{
 "cells": [
  {
   "cell_type": "code",
   "execution_count": 1,
   "metadata": {},
   "outputs": [],
   "source": [
    "# modules required for handling dataframes\n",
    "import os\n",
    "import pandas as pd\n",
    "from ete3 import NCBITaxa \n",
    "ncbi = NCBITaxa()"
   ]
  },
  {
   "cell_type": "code",
   "execution_count": 2,
   "metadata": {},
   "outputs": [],
   "source": [
    "def search_rank_output_name_append_column(df, staxid_column, rank_search):\n",
    "    \"\"\"Input df, staxid_column from same df and rank_search (a desired taxonomic rank \n",
    "    from each staxid's lineage), outputs taxonomic name corresponding to rank_search or 'Unclassified' if\n",
    "    unavailable and appends to df row by row\"\"\"\n",
    "    rank_list = []\n",
    "    for read_index in range(0, len(staxid_column)):\n",
    "        taxid = ''\n",
    "        if ';' in str(staxid_column[read_index]):\n",
    "            taxid = staxid_column[read_index].split(';')[0]\n",
    "        else:\n",
    "            taxid = staxid_column[read_index]\n",
    "        \n",
    "        taxid_lineage = ''\n",
    "        taxid_lineage = ncbi.get_lineage(taxid)\n",
    "        \n",
    "        names = ''\n",
    "        names = ncbi.get_taxid_translator(taxid_lineage)\n",
    "        \n",
    "        ranks = ''\n",
    "        ranks = ncbi.get_rank(taxid_lineage) #Dict\n",
    "        \n",
    "        ranks2names = ''\n",
    "        ranks2names = {ranks[k]:names[k] for k in names.keys() & ranks}\n",
    "        \n",
    "        if rank_search in ranks2names.keys():\n",
    "            rank_list.append(ranks2names[rank_search])#if rank in dict, print name\n",
    "        else:\n",
    "            rank_list.append('Unclassified')\n",
    "    df[rank_search] = rank_list\n",
    "    \n",
    "def trim_df_columns(df,column_list):\n",
    "    df.drop(columns=column_list, inplace=True)\n",
    "    \n",
    "def unique_df(df):\n",
    "    df_unique = df\n",
    "    df_unique = df_unique[df_unique.taxid != 0]\n",
    "    # This species is not in the ete3 database and doesn't have too much hits\n",
    "    # Therefore I just removed it from the output file first. \n",
    "    # But certainly we can use a try function in the later step.\n",
    "    df_unique = df_unique[df_unique.taxid != 2726947]\n",
    "    df_unique = df_unique.reset_index(drop=True)\n",
    "    return df_unique"
   ]
  },
  {
   "cell_type": "code",
   "execution_count": 3,
   "metadata": {},
   "outputs": [],
   "source": [
    "# Define global variables.\n",
    "sourcedir = '/home/yiheng/MinION_data/tavish_data/tavish_kraken_output' # the directory where all the documents of each sequencing run are stored."
   ]
  },
  {
   "cell_type": "code",
   "execution_count": 4,
   "metadata": {},
   "outputs": [
    {
     "data": {
      "text/plain": [
       "['puccinia_striiformis.1000.ncbiITSkraken_output',\n",
       " 'candida_orthopsilosis.1000.ncbiITSkraken_output',\n",
       " 'candida_albicans.1000.ncbiITSkraken_output',\n",
       " 'aspergillus_niger.1000.ncbiITSkraken_output',\n",
       " 'candida_metapsilosis.1000.ncbiITSkraken_output',\n",
       " 'diaporthe_ccl067.1000.ncbiITSkraken_output',\n",
       " 'aspergillus_flavus.1000.ncbiITSkraken_output',\n",
       " 'pyrenophora_tritici-repentis.1000.ncbiITSkraken_output',\n",
       " 'wheat_zymoseptoria_tritici.1000.ncbiITSkraken_output',\n",
       " 'wheat_pyrenophora_tritici-repentis.1000.ncbiITSkraken_output',\n",
       " 'diaporthe_unidentified.1000.ncbiITSkraken_output',\n",
       " 'scedosporium_boydii.1000.ncbiITSkraken_output',\n",
       " 'saccharomyces_cerevisiae.1000.ncbiITSkraken_output',\n",
       " 'zymoseptoria_tritici.1000.ncbiITSkraken_output',\n",
       " 'rhodotorula_mucilaginosa.1000.ncbiITSkraken_output',\n",
       " 'wheat_puccinia_striiformis.1000.ncbiITSkraken_output']"
      ]
     },
     "execution_count": 4,
     "metadata": {},
     "output_type": "execute_result"
    }
   ],
   "source": [
    "os.listdir(sourcedir)"
   ]
  },
  {
   "cell_type": "code",
   "execution_count": 5,
   "metadata": {},
   "outputs": [],
   "source": [
    "species_list = [x.split('.')[0] for x in os.listdir(sourcedir)]"
   ]
  },
  {
   "cell_type": "code",
   "execution_count": 6,
   "metadata": {},
   "outputs": [],
   "source": [
    "puccinia_striiformis_dir = os.path.join(sourcedir, 'puccinia_striiformis.1000.ncbiITSkraken_output')\n",
    "candida_orthopsilosis_dir = os.path.join(sourcedir, 'candida_orthopsilosis.1000.ncbiITSkraken_output')\n",
    "candida_albicans_dir = os.path.join(sourcedir, 'candida_albicans.1000.ncbiITSkraken_output')\n",
    "aspergillus_niger_dir = os.path.join(sourcedir, 'aspergillus_niger.1000.ncbiITSkraken_output')\n",
    "candida_metapsilosis_dir = os.path.join(sourcedir, 'candida_metapsilosis.1000.ncbiITSkraken_output')\n",
    "diaporthe_ccl067_dir = os.path.join(sourcedir, 'diaporthe_ccl067.1000.ncbiITSkraken_output')\n",
    "aspergillus_flavus_dir = os.path.join(sourcedir, 'aspergillus_flavus.1000.ncbiITSkraken_output')\n",
    "pyrenophora_tritici_dir = os.path.join(sourcedir, 'pyrenophora_tritici-repentis.1000.ncbiITSkraken_output')\n",
    "wheat_zymoseptoria_tritici_dir = os.path.join(sourcedir, 'wheat_zymoseptoria_tritici.1000.ncbiITSkraken_output')\n",
    "wheat_pyrenophora_tritici_dir = os.path.join(sourcedir, 'wheat_pyrenophora_tritici-repentis.1000.ncbiITSkraken_output')\n",
    "diaporthe_unidentified_dir = os.path.join(sourcedir, 'diaporthe_unidentified.1000.ncbiITSkraken_output')\n",
    "scedosporium_boydii_dir = os.path.join(sourcedir, 'scedosporium_boydii.1000.ncbiITSkraken_output')\n",
    "saccharomyces_cerevisiae_dir = os.path.join(sourcedir, 'saccharomyces_cerevisiae.1000.ncbiITSkraken_output')\n",
    "zymoseptoria_tritici_dir = os.path.join(sourcedir, 'zymoseptoria_tritici.1000.ncbiITSkraken_output')\n",
    "rhodotorula_mucilaginosa_dir = os.path.join(sourcedir, 'rhodotorula_mucilaginosa.1000.ncbiITSkraken_output')\n",
    "wheat_puccinia_striiformis_dir = os.path.join(sourcedir, 'wheat_puccinia_striiformis.1000.ncbiITSkraken_output')\n"
   ]
  },
  {
   "cell_type": "code",
   "execution_count": 7,
   "metadata": {},
   "outputs": [],
   "source": [
    "kraken_headers = ['classification', 'readid', 'taxid', 'seqlen']"
   ]
  },
  {
   "cell_type": "code",
   "execution_count": 8,
   "metadata": {},
   "outputs": [],
   "source": [
    "puccinia_striiformis_df = pd.read_csv(puccinia_striiformis_dir, sep='\\t', header=None)\n",
    "candida_orthopsilosis_df = pd.read_csv(candida_orthopsilosis_dir, sep='\\t', header=None)\n",
    "candida_albicans_df = pd.read_csv(candida_albicans_dir, sep='\\t', header=None)\n",
    "aspergillus_niger_df = pd.read_csv(aspergillus_niger_dir, sep='\\t', header=None)\n",
    "candida_metapsilosis_df = pd.read_csv(candida_metapsilosis_dir, sep='\\t', header=None)\n",
    "diaporthe_ccl067_df = pd.read_csv(diaporthe_ccl067_dir, sep='\\t', header=None)\n",
    "aspergillus_flavus_df = pd.read_csv(aspergillus_flavus_dir, sep='\\t', header=None)\n",
    "pyrenophora_tritici_df = pd.read_csv(pyrenophora_tritici_dir, sep='\\t', header=None)\n",
    "wheat_zymoseptoria_tritici_df = pd.read_csv(wheat_zymoseptoria_tritici_dir, sep='\\t', header=None)\n",
    "wheat_pyrenophora_tritici_df = pd.read_csv(wheat_pyrenophora_tritici_dir, sep='\\t', header=None)\n",
    "diaporthe_unidentified_df = pd.read_csv(diaporthe_unidentified_dir, sep='\\t', header=None)\n",
    "scedosporium_boydii_df = pd.read_csv(scedosporium_boydii_dir, sep='\\t', header=None)\n",
    "saccharomyces_cerevisiae_df = pd.read_csv(saccharomyces_cerevisiae_dir, sep='\\t', header=None)\n",
    "zymoseptoria_tritici_df = pd.read_csv(zymoseptoria_tritici_dir, sep='\\t', header=None)\n",
    "rhodotorula_mucilaginosa_df = pd.read_csv(rhodotorula_mucilaginosa_dir, sep='\\t', header=None)\n",
    "wheat_puccinia_striiformis_df = pd.read_csv(wheat_puccinia_striiformis_dir, sep='\\t', header=None)"
   ]
  },
  {
   "cell_type": "code",
   "execution_count": 9,
   "metadata": {},
   "outputs": [],
   "source": [
    "df_list = [puccinia_striiformis_df, candida_orthopsilosis_df, candida_albicans_df, aspergillus_niger_df,\n",
    "           candida_metapsilosis_df, diaporthe_ccl067_df, aspergillus_flavus_df, pyrenophora_tritici_df,\n",
    "           wheat_zymoseptoria_tritici_df, wheat_pyrenophora_tritici_df, diaporthe_unidentified_df, scedosporium_boydii_df,\n",
    "           saccharomyces_cerevisiae_df, zymoseptoria_tritici_df, rhodotorula_mucilaginosa_df, wheat_puccinia_striiformis_df]"
   ]
  },
  {
   "cell_type": "code",
   "execution_count": 10,
   "metadata": {},
   "outputs": [],
   "source": [
    "for df in df_list:\n",
    "    trim_df_columns(df, 4)\n",
    "    df.columns = kraken_headers"
   ]
  },
  {
   "cell_type": "code",
   "execution_count": 11,
   "metadata": {},
   "outputs": [],
   "source": [
    "puccinia_striiformis_uniq_df = unique_df(puccinia_striiformis_df)\n",
    "candida_orthopsilosis_uniq_df = unique_df(candida_orthopsilosis_df)\n",
    "candida_albicans_uniq_df = unique_df(candida_albicans_df)\n",
    "aspergillus_niger_uniq_df = unique_df(aspergillus_niger_df)\n",
    "candida_metapsilosis_uniq_df = unique_df(candida_metapsilosis_df)\n",
    "diaporthe_ccl067_uniq_df = unique_df(diaporthe_ccl067_df)\n",
    "aspergillus_flavus_uniq_df = unique_df(aspergillus_flavus_df)\n",
    "pyrenophora_tritici_uniq_df = unique_df(pyrenophora_tritici_df)\n",
    "wheat_zymoseptoria_tritici_uniq_df = unique_df(wheat_zymoseptoria_tritici_df)\n",
    "wheat_pyrenophora_tritici_uniq_df = unique_df(wheat_pyrenophora_tritici_df)\n",
    "diaporthe_unidentified_uniq_df = unique_df(diaporthe_unidentified_df)\n",
    "scedosporium_boydii_uniq_df = unique_df(scedosporium_boydii_df)\n",
    "saccharomyces_cerevisiae_uniq_df = unique_df(saccharomyces_cerevisiae_df)\n",
    "zymoseptoria_tritici_uniq_df = unique_df(zymoseptoria_tritici_df)\n",
    "rhodotorula_mucilaginosa_uniq_df = unique_df(rhodotorula_mucilaginosa_df)\n",
    "wheat_puccinia_striiformis_uniq_df = unique_df(wheat_puccinia_striiformis_df)"
   ]
  },
  {
   "cell_type": "code",
   "execution_count": 12,
   "metadata": {},
   "outputs": [],
   "source": [
    "rank_list = ['superkingdom', 'phylum', 'class', 'order', 'family', 'genus', 'species']\n",
    "for rank in rank_list:\n",
    "    search_rank_output_name_append_column(puccinia_striiformis_uniq_df, \n",
    "                                          puccinia_striiformis_uniq_df.taxid, \n",
    "                                          rank)\n",
    "    search_rank_output_name_append_column(candida_orthopsilosis_uniq_df, \n",
    "                                          candida_orthopsilosis_uniq_df.taxid, \n",
    "                                          rank)\n",
    "    search_rank_output_name_append_column(candida_albicans_uniq_df, \n",
    "                                          candida_albicans_uniq_df.taxid, \n",
    "                                          rank)\n",
    "    search_rank_output_name_append_column(aspergillus_niger_uniq_df, \n",
    "                                          aspergillus_niger_uniq_df.taxid, \n",
    "                                          rank)\n",
    "    search_rank_output_name_append_column(candida_metapsilosis_uniq_df, \n",
    "                                          candida_metapsilosis_uniq_df.taxid, \n",
    "                                          rank)\n",
    "    search_rank_output_name_append_column(diaporthe_ccl067_uniq_df, \n",
    "                                          diaporthe_ccl067_uniq_df.taxid, \n",
    "                                          rank)\n",
    "    search_rank_output_name_append_column(aspergillus_flavus_uniq_df, \n",
    "                                          aspergillus_flavus_uniq_df.taxid, \n",
    "                                          rank)\n",
    "    search_rank_output_name_append_column(pyrenophora_tritici_uniq_df, \n",
    "                                          pyrenophora_tritici_uniq_df.taxid, \n",
    "                                          rank)\n",
    "    search_rank_output_name_append_column(wheat_zymoseptoria_tritici_uniq_df, \n",
    "                                          wheat_zymoseptoria_tritici_uniq_df.taxid, \n",
    "                                          rank)\n",
    "    search_rank_output_name_append_column(wheat_pyrenophora_tritici_uniq_df, \n",
    "                                          wheat_pyrenophora_tritici_uniq_df.taxid, \n",
    "                                          rank)\n",
    "    search_rank_output_name_append_column(diaporthe_unidentified_uniq_df, \n",
    "                                          diaporthe_unidentified_uniq_df.taxid, \n",
    "                                          rank)\n",
    "    search_rank_output_name_append_column(scedosporium_boydii_uniq_df, \n",
    "                                          scedosporium_boydii_uniq_df.taxid, \n",
    "                                          rank)\n",
    "    search_rank_output_name_append_column(saccharomyces_cerevisiae_uniq_df, \n",
    "                                          saccharomyces_cerevisiae_uniq_df.taxid, \n",
    "                                          rank)\n",
    "    search_rank_output_name_append_column(zymoseptoria_tritici_uniq_df, \n",
    "                                          zymoseptoria_tritici_uniq_df.taxid, \n",
    "                                          rank)\n",
    "    search_rank_output_name_append_column(rhodotorula_mucilaginosa_uniq_df, \n",
    "                                          rhodotorula_mucilaginosa_uniq_df.taxid, \n",
    "                                          rank)\n",
    "    search_rank_output_name_append_column(wheat_puccinia_striiformis_uniq_df, \n",
    "                                          wheat_puccinia_striiformis_uniq_df.taxid, \n",
    "                                          rank)"
   ]
  },
  {
   "cell_type": "code",
   "execution_count": 13,
   "metadata": {},
   "outputs": [],
   "source": [
    "final_df = pd.DataFrame()\n",
    "final_df['samples'] = species_list"
   ]
  },
  {
   "cell_type": "code",
   "execution_count": 14,
   "metadata": {},
   "outputs": [],
   "source": [
    "puccinia_striiformis_uniq_df_trim = puccinia_striiformis_uniq_df[puccinia_striiformis_uniq_df.species.str.contains('Puccinia striiformis')]\n",
    "candida_orthopsilosis_uniq_df_trim = candida_orthopsilosis_uniq_df[candida_orthopsilosis_uniq_df.species.str.contains('Candida orthopsilosis')]\n",
    "candida_albicans_uniq_df_trim = candida_albicans_uniq_df[candida_albicans_uniq_df.species.str.contains('Candida albicans')]\n",
    "aspergillus_niger_uniq_df_trim = aspergillus_niger_uniq_df[aspergillus_niger_uniq_df.species.str.contains('Aspergillus niger')]\n",
    "candida_metapsilosis_uniq_df_trim = candida_metapsilosis_uniq_df[candida_metapsilosis_uniq_df.species.str.contains('Candida metapsilosis')]\n",
    "diaporthe_ccl067_uniq_df_trim = diaporthe_ccl067_uniq_df[diaporthe_ccl067_uniq_df.species.str.contains('Diaporthe ccl067')]\n",
    "aspergillus_flavus_uniq_df_trim = aspergillus_flavus_uniq_df[aspergillus_flavus_uniq_df.species.str.contains('Aspergillus flavus')]\n",
    "pyrenophora_tritici_uniq_df_trim = pyrenophora_tritici_uniq_df[pyrenophora_tritici_uniq_df.species.str.contains('Pyrenophora tritici')]\n",
    "wheat_zymoseptoria_tritici_uniq_df_trim = wheat_zymoseptoria_tritici_uniq_df[wheat_zymoseptoria_tritici_uniq_df.species.str.contains('Zymoseptoria tritici')]\n",
    "wheat_pyrenophora_tritici_uniq_df_trim = wheat_pyrenophora_tritici_uniq_df[wheat_pyrenophora_tritici_uniq_df.species.str.contains('Pyrenophora tritici')]\n",
    "diaporthe_unidentified_uniq_df_trim = diaporthe_unidentified_uniq_df[diaporthe_unidentified_uniq_df.genus.str.contains('Diaporthe') & diaporthe_unidentified_uniq_df.species.str.contains('Unidentified')]\n",
    "scedosporium_boydii_uniq_df_trim = scedosporium_boydii_uniq_df[scedosporium_boydii_uniq_df.species.str.contains('Scedosporium boydii')]\n",
    "saccharomyces_cerevisiae_uniq_df_trim = saccharomyces_cerevisiae_uniq_df[saccharomyces_cerevisiae_uniq_df.species.str.contains('Saccharomyces cerevisiae')]\n",
    "zymoseptoria_tritici_uniq_df_trim = zymoseptoria_tritici_uniq_df[zymoseptoria_tritici_uniq_df.species.str.contains('Zymoseptoria tritici')]\n",
    "rhodotorula_mucilaginosa_uniq_df_trim = rhodotorula_mucilaginosa_uniq_df[rhodotorula_mucilaginosa_uniq_df.species.str.contains('Rhodotorula mucilaginosa')]\n",
    "wheat_puccinia_striiformis_uniq_df_trim = wheat_puccinia_striiformis_uniq_df[wheat_puccinia_striiformis_uniq_df.species.str.contains('Puccinia striiformis')]"
   ]
  },
  {
   "cell_type": "code",
   "execution_count": 15,
   "metadata": {},
   "outputs": [],
   "source": [
    "df_uniq_trim_list = [puccinia_striiformis_uniq_df_trim, candida_orthopsilosis_uniq_df_trim, \n",
    "                     candida_albicans_uniq_df_trim, aspergillus_niger_uniq_df_trim,\n",
    "                     candida_metapsilosis_uniq_df_trim, diaporthe_ccl067_uniq_df_trim, \n",
    "                     aspergillus_flavus_uniq_df_trim, pyrenophora_tritici_uniq_df_trim,\n",
    "                     wheat_zymoseptoria_tritici_uniq_df_trim, wheat_pyrenophora_tritici_uniq_df_trim,\n",
    "                     diaporthe_unidentified_uniq_df_trim, scedosporium_boydii_uniq_df_trim, \n",
    "                     saccharomyces_cerevisiae_uniq_df_trim, zymoseptoria_tritici_uniq_df_trim, \n",
    "                     rhodotorula_mucilaginosa_uniq_df_trim, wheat_puccinia_striiformis_uniq_df_trim]"
   ]
  },
  {
   "cell_type": "code",
   "execution_count": 16,
   "metadata": {},
   "outputs": [],
   "source": [
    "species_frequency = [len(x)/1000 for x in df_uniq_trim_list]"
   ]
  },
  {
   "cell_type": "code",
   "execution_count": 17,
   "metadata": {},
   "outputs": [],
   "source": [
    "final_df['species_accuracy'] = species_frequency"
   ]
  },
  {
   "cell_type": "code",
   "execution_count": 18,
   "metadata": {},
   "outputs": [],
   "source": [
    "puccinia_striiformis_uniq_df_trim = puccinia_striiformis_uniq_df[puccinia_striiformis_uniq_df.genus.str.contains('Puccinia')]\n",
    "candida_orthopsilosis_uniq_df_trim = candida_orthopsilosis_uniq_df[candida_orthopsilosis_uniq_df.genus.str.contains('Candida')]\n",
    "candida_albicans_uniq_df_trim = candida_albicans_uniq_df[candida_albicans_uniq_df.genus.str.contains('Candida')]\n",
    "aspergillus_niger_uniq_df_trim = aspergillus_niger_uniq_df[aspergillus_niger_uniq_df.genus.str.contains('Aspergillus')]\n",
    "candida_metapsilosis_uniq_df_trim = candida_metapsilosis_uniq_df[candida_metapsilosis_uniq_df.genus.str.contains('Candida')]\n",
    "diaporthe_ccl067_uniq_df_trim = diaporthe_ccl067_uniq_df[diaporthe_ccl067_uniq_df.genus.str.contains('Diaporthe')]\n",
    "aspergillus_flavus_uniq_df_trim = aspergillus_flavus_uniq_df[aspergillus_flavus_uniq_df.genus.str.contains('Aspergillus')]\n",
    "pyrenophora_tritici_uniq_df_trim = pyrenophora_tritici_uniq_df[pyrenophora_tritici_uniq_df.genus.str.contains('Pyrenophora')]\n",
    "wheat_zymoseptoria_tritici_uniq_df_trim = wheat_zymoseptoria_tritici_uniq_df[wheat_zymoseptoria_tritici_uniq_df.genus.str.contains('Zymoseptoria')]\n",
    "wheat_pyrenophora_tritici_uniq_df_trim = wheat_pyrenophora_tritici_uniq_df[wheat_pyrenophora_tritici_uniq_df.genus.str.contains('Pyrenophora')]\n",
    "diaporthe_unidentified_uniq_df_trim = diaporthe_unidentified_uniq_df[diaporthe_unidentified_uniq_df.genus.str.contains('Diaporthe')]\n",
    "scedosporium_boydii_uniq_df_trim = scedosporium_boydii_uniq_df[scedosporium_boydii_uniq_df.genus.str.contains('Scedosporium')]\n",
    "saccharomyces_cerevisiae_uniq_df_trim = saccharomyces_cerevisiae_uniq_df[saccharomyces_cerevisiae_uniq_df.genus.str.contains('Saccharomyces')]\n",
    "zymoseptoria_tritici_uniq_df_trim = zymoseptoria_tritici_uniq_df[zymoseptoria_tritici_uniq_df.genus.str.contains('Zymoseptoria')]\n",
    "rhodotorula_mucilaginosa_uniq_df_trim = rhodotorula_mucilaginosa_uniq_df[rhodotorula_mucilaginosa_uniq_df.genus.str.contains('Rhodotorula')]\n",
    "wheat_puccinia_striiformis_uniq_df_trim = wheat_puccinia_striiformis_uniq_df[wheat_puccinia_striiformis_uniq_df.genus.str.contains('Puccinia')]"
   ]
  },
  {
   "cell_type": "code",
   "execution_count": 19,
   "metadata": {},
   "outputs": [],
   "source": [
    "df_uniq_trim_list = [puccinia_striiformis_uniq_df_trim, candida_orthopsilosis_uniq_df_trim, \n",
    "                     candida_albicans_uniq_df_trim, aspergillus_niger_uniq_df_trim,\n",
    "                     candida_metapsilosis_uniq_df_trim, diaporthe_ccl067_uniq_df_trim, \n",
    "                     aspergillus_flavus_uniq_df_trim, pyrenophora_tritici_uniq_df_trim,\n",
    "                     wheat_zymoseptoria_tritici_uniq_df_trim, wheat_pyrenophora_tritici_uniq_df_trim,\n",
    "                     diaporthe_unidentified_uniq_df_trim, scedosporium_boydii_uniq_df_trim, \n",
    "                     saccharomyces_cerevisiae_uniq_df_trim, zymoseptoria_tritici_uniq_df_trim, \n",
    "                     rhodotorula_mucilaginosa_uniq_df_trim, wheat_puccinia_striiformis_uniq_df_trim]"
   ]
  },
  {
   "cell_type": "code",
   "execution_count": 20,
   "metadata": {},
   "outputs": [],
   "source": [
    "genus_frequency = [len(x)/1000 for x in df_uniq_trim_list]"
   ]
  },
  {
   "cell_type": "code",
   "execution_count": 21,
   "metadata": {},
   "outputs": [],
   "source": [
    "final_df['genus_accuracy'] = genus_frequency"
   ]
  },
  {
   "cell_type": "code",
   "execution_count": 22,
   "metadata": {},
   "outputs": [],
   "source": [
    "puccinia_striiformis_uniq_df_trim = puccinia_striiformis_uniq_df[puccinia_striiformis_uniq_df.family.str.contains('Pucciniaceae')]\n",
    "candida_orthopsilosis_uniq_df_trim = candida_orthopsilosis_uniq_df[candida_orthopsilosis_uniq_df.family.str.contains('Debaryomycetaceae')]\n",
    "candida_albicans_uniq_df_trim = candida_albicans_uniq_df[candida_albicans_uniq_df.family.str.contains('Debaryomycetaceae')]\n",
    "aspergillus_niger_uniq_df_trim = aspergillus_niger_uniq_df[aspergillus_niger_uniq_df.family.str.contains('Aspergillaceae')]\n",
    "candida_metapsilosis_uniq_df_trim = candida_metapsilosis_uniq_df[candida_metapsilosis_uniq_df.family.str.contains('Debaryomycetaceae')]\n",
    "diaporthe_ccl067_uniq_df_trim = diaporthe_ccl067_uniq_df[diaporthe_ccl067_uniq_df.family.str.contains('Diaporthaceae')]\n",
    "aspergillus_flavus_uniq_df_trim = aspergillus_flavus_uniq_df[aspergillus_flavus_uniq_df.family.str.contains('Aspergillaceae')]\n",
    "pyrenophora_tritici_uniq_df_trim = pyrenophora_tritici_uniq_df[pyrenophora_tritici_uniq_df.family.str.contains('Pleosporaceae')]\n",
    "wheat_zymoseptoria_tritici_uniq_df_trim = wheat_zymoseptoria_tritici_uniq_df[wheat_zymoseptoria_tritici_uniq_df.family.str.contains('Mycosphaerellaceae')]\n",
    "wheat_pyrenophora_tritici_uniq_df_trim = wheat_pyrenophora_tritici_uniq_df[wheat_pyrenophora_tritici_uniq_df.family.str.contains('Pleosporaceae')]\n",
    "diaporthe_unidentified_uniq_df_trim = diaporthe_unidentified_uniq_df[diaporthe_unidentified_uniq_df.family.str.contains('Diaporthaceae')]\n",
    "scedosporium_boydii_uniq_df_trim = scedosporium_boydii_uniq_df[scedosporium_boydii_uniq_df.family.str.contains('Microascaceae')]\n",
    "saccharomyces_cerevisiae_uniq_df_trim = saccharomyces_cerevisiae_uniq_df[saccharomyces_cerevisiae_uniq_df.family.str.contains('Saccharomycetaceae')]\n",
    "zymoseptoria_tritici_uniq_df_trim = zymoseptoria_tritici_uniq_df[zymoseptoria_tritici_uniq_df.family.str.contains('Mycosphaerellaceae')]\n",
    "rhodotorula_mucilaginosa_uniq_df_trim = rhodotorula_mucilaginosa_uniq_df[rhodotorula_mucilaginosa_uniq_df.family.str.contains('Sporidiobolaceae')]\n",
    "wheat_puccinia_striiformis_uniq_df_trim = wheat_puccinia_striiformis_uniq_df[wheat_puccinia_striiformis_uniq_df.family.str.contains('Pucciniaceae')]"
   ]
  },
  {
   "cell_type": "code",
   "execution_count": 23,
   "metadata": {},
   "outputs": [],
   "source": [
    "df_uniq_trim_list = [puccinia_striiformis_uniq_df_trim, candida_orthopsilosis_uniq_df_trim, \n",
    "                     candida_albicans_uniq_df_trim, aspergillus_niger_uniq_df_trim,\n",
    "                     candida_metapsilosis_uniq_df_trim, diaporthe_ccl067_uniq_df_trim, \n",
    "                     aspergillus_flavus_uniq_df_trim, pyrenophora_tritici_uniq_df_trim,\n",
    "                     wheat_zymoseptoria_tritici_uniq_df_trim, wheat_pyrenophora_tritici_uniq_df_trim,\n",
    "                     diaporthe_unidentified_uniq_df_trim, scedosporium_boydii_uniq_df_trim, \n",
    "                     saccharomyces_cerevisiae_uniq_df_trim, zymoseptoria_tritici_uniq_df_trim, \n",
    "                     rhodotorula_mucilaginosa_uniq_df_trim, wheat_puccinia_striiformis_uniq_df_trim]"
   ]
  },
  {
   "cell_type": "code",
   "execution_count": 24,
   "metadata": {},
   "outputs": [],
   "source": [
    "family_frequency = [len(x)/1000 for x in df_uniq_trim_list]"
   ]
  },
  {
   "cell_type": "code",
   "execution_count": 25,
   "metadata": {},
   "outputs": [],
   "source": [
    "final_df['family_accuracy'] = family_frequency"
   ]
  },
  {
   "cell_type": "code",
   "execution_count": 26,
   "metadata": {},
   "outputs": [],
   "source": [
    "puccinia_striiformis_uniq_df_trim = puccinia_striiformis_uniq_df[puccinia_striiformis_uniq_df.order.str.contains('Pucciniales')]\n",
    "candida_orthopsilosis_uniq_df_trim = candida_orthopsilosis_uniq_df[candida_orthopsilosis_uniq_df.order.str.contains('Saccharomycetales')]\n",
    "candida_albicans_uniq_df_trim = candida_albicans_uniq_df[candida_albicans_uniq_df.order.str.contains('Saccharomycetales')]\n",
    "aspergillus_niger_uniq_df_trim = aspergillus_niger_uniq_df[aspergillus_niger_uniq_df.order.str.contains('Eurotiales')]\n",
    "candida_metapsilosis_uniq_df_trim = candida_metapsilosis_uniq_df[candida_metapsilosis_uniq_df.order.str.contains('Saccharomycetales')]\n",
    "diaporthe_ccl067_uniq_df_trim = diaporthe_ccl067_uniq_df[diaporthe_ccl067_uniq_df.order.str.contains('Diaporthales')]\n",
    "aspergillus_flavus_uniq_df_trim = aspergillus_flavus_uniq_df[aspergillus_flavus_uniq_df.order.str.contains('Eurotiales')]\n",
    "pyrenophora_tritici_uniq_df_trim = pyrenophora_tritici_uniq_df[pyrenophora_tritici_uniq_df.order.str.contains('Pleosporales')]\n",
    "wheat_zymoseptoria_tritici_uniq_df_trim = wheat_zymoseptoria_tritici_uniq_df[wheat_zymoseptoria_tritici_uniq_df.order.str.contains('Capnodiales')]\n",
    "wheat_pyrenophora_tritici_uniq_df_trim = wheat_pyrenophora_tritici_uniq_df[wheat_pyrenophora_tritici_uniq_df.order.str.contains('Pleosporales')]\n",
    "diaporthe_unidentified_uniq_df_trim = diaporthe_unidentified_uniq_df[diaporthe_unidentified_uniq_df.order.str.contains('Diaporthales')]\n",
    "scedosporium_boydii_uniq_df_trim = scedosporium_boydii_uniq_df[scedosporium_boydii_uniq_df.order.str.contains('Microascales')]\n",
    "saccharomyces_cerevisiae_uniq_df_trim = saccharomyces_cerevisiae_uniq_df[saccharomyces_cerevisiae_uniq_df.order.str.contains('Saccharomycetales')]\n",
    "zymoseptoria_tritici_uniq_df_trim = zymoseptoria_tritici_uniq_df[zymoseptoria_tritici_uniq_df.order.str.contains('Capnodiales')]\n",
    "rhodotorula_mucilaginosa_uniq_df_trim = rhodotorula_mucilaginosa_uniq_df[rhodotorula_mucilaginosa_uniq_df.order.str.contains('Sporidiobolales')]\n",
    "wheat_puccinia_striiformis_uniq_df_trim = wheat_puccinia_striiformis_uniq_df[wheat_puccinia_striiformis_uniq_df.order.str.contains('Pucciniales')]"
   ]
  },
  {
   "cell_type": "code",
   "execution_count": 27,
   "metadata": {},
   "outputs": [],
   "source": [
    "df_uniq_trim_list = [puccinia_striiformis_uniq_df_trim, candida_orthopsilosis_uniq_df_trim, \n",
    "                     candida_albicans_uniq_df_trim, aspergillus_niger_uniq_df_trim,\n",
    "                     candida_metapsilosis_uniq_df_trim, diaporthe_ccl067_uniq_df_trim, \n",
    "                     aspergillus_flavus_uniq_df_trim, pyrenophora_tritici_uniq_df_trim,\n",
    "                     wheat_zymoseptoria_tritici_uniq_df_trim, wheat_pyrenophora_tritici_uniq_df_trim,\n",
    "                     diaporthe_unidentified_uniq_df_trim, scedosporium_boydii_uniq_df_trim, \n",
    "                     saccharomyces_cerevisiae_uniq_df_trim, zymoseptoria_tritici_uniq_df_trim, \n",
    "                     rhodotorula_mucilaginosa_uniq_df_trim, wheat_puccinia_striiformis_uniq_df_trim]"
   ]
  },
  {
   "cell_type": "code",
   "execution_count": 28,
   "metadata": {},
   "outputs": [],
   "source": [
    "order_frequency = [len(x)/1000 for x in df_uniq_trim_list]"
   ]
  },
  {
   "cell_type": "code",
   "execution_count": 29,
   "metadata": {},
   "outputs": [],
   "source": [
    "final_df['order_accuracy'] = order_frequency"
   ]
  },
  {
   "cell_type": "code",
   "execution_count": 30,
   "metadata": {},
   "outputs": [],
   "source": [
    "puccinia_striiformis_uniq_df_trim = puccinia_striiformis_uniq_df[puccinia_striiformis_uniq_df['class'].str.contains('Pucciniomycetes')]\n",
    "candida_orthopsilosis_uniq_df_trim = candida_orthopsilosis_uniq_df[candida_orthopsilosis_uniq_df['class'].str.contains('Saccharomycetes')]\n",
    "candida_albicans_uniq_df_trim = candida_albicans_uniq_df[candida_albicans_uniq_df['class'].str.contains('Saccharomycetes')]\n",
    "aspergillus_niger_uniq_df_trim = aspergillus_niger_uniq_df[aspergillus_niger_uniq_df['class'].str.contains('Eurotiomycetes')]\n",
    "candida_metapsilosis_uniq_df_trim = candida_metapsilosis_uniq_df[candida_metapsilosis_uniq_df['class'].str.contains('Saccharomycetes')]\n",
    "diaporthe_ccl067_uniq_df_trim = diaporthe_ccl067_uniq_df[diaporthe_ccl067_uniq_df['class'].str.contains('Sordariomycetes')]\n",
    "aspergillus_flavus_uniq_df_trim = aspergillus_flavus_uniq_df[aspergillus_flavus_uniq_df['class'].str.contains('Eurotiomycetes')]\n",
    "pyrenophora_tritici_uniq_df_trim = pyrenophora_tritici_uniq_df[pyrenophora_tritici_uniq_df['class'].str.contains('Dothideomycetes')]\n",
    "wheat_zymoseptoria_tritici_uniq_df_trim = wheat_zymoseptoria_tritici_uniq_df[wheat_zymoseptoria_tritici_uniq_df['class'].str.contains('Dothideomycetes')]\n",
    "wheat_pyrenophora_tritici_uniq_df_trim = wheat_pyrenophora_tritici_uniq_df[wheat_pyrenophora_tritici_uniq_df['class'].str.contains('Dothideomycetes')]\n",
    "diaporthe_unidentified_uniq_df_trim = diaporthe_unidentified_uniq_df[diaporthe_unidentified_uniq_df['class'].str.contains('Sordariomycetes')]\n",
    "scedosporium_boydii_uniq_df_trim = scedosporium_boydii_uniq_df[scedosporium_boydii_uniq_df['class'].str.contains('Sordariomycetes')]\n",
    "saccharomyces_cerevisiae_uniq_df_trim = saccharomyces_cerevisiae_uniq_df[saccharomyces_cerevisiae_uniq_df['class'].str.contains('Saccharomycetes')]\n",
    "zymoseptoria_tritici_uniq_df_trim = zymoseptoria_tritici_uniq_df[zymoseptoria_tritici_uniq_df['class'].str.contains('Dothideomycetes')]\n",
    "rhodotorula_mucilaginosa_uniq_df_trim = rhodotorula_mucilaginosa_uniq_df[rhodotorula_mucilaginosa_uniq_df['class'].str.contains('Sporidiobolales')]\n",
    "wheat_puccinia_striiformis_uniq_df_trim = wheat_puccinia_striiformis_uniq_df[wheat_puccinia_striiformis_uniq_df['class'].str.contains('Pucciniomycetes')]"
   ]
  },
  {
   "cell_type": "code",
   "execution_count": 31,
   "metadata": {},
   "outputs": [],
   "source": [
    "df_uniq_trim_list = [puccinia_striiformis_uniq_df_trim, candida_orthopsilosis_uniq_df_trim, \n",
    "                     candida_albicans_uniq_df_trim, aspergillus_niger_uniq_df_trim,\n",
    "                     candida_metapsilosis_uniq_df_trim, diaporthe_ccl067_uniq_df_trim, \n",
    "                     aspergillus_flavus_uniq_df_trim, pyrenophora_tritici_uniq_df_trim,\n",
    "                     wheat_zymoseptoria_tritici_uniq_df_trim, wheat_pyrenophora_tritici_uniq_df_trim,\n",
    "                     diaporthe_unidentified_uniq_df_trim, scedosporium_boydii_uniq_df_trim, \n",
    "                     saccharomyces_cerevisiae_uniq_df_trim, zymoseptoria_tritici_uniq_df_trim, \n",
    "                     rhodotorula_mucilaginosa_uniq_df_trim, wheat_puccinia_striiformis_uniq_df_trim]"
   ]
  },
  {
   "cell_type": "code",
   "execution_count": 32,
   "metadata": {},
   "outputs": [],
   "source": [
    "class_frequency = [len(x)/1000 for x in df_uniq_trim_list]"
   ]
  },
  {
   "cell_type": "code",
   "execution_count": 33,
   "metadata": {},
   "outputs": [],
   "source": [
    "final_df['class_accuracy'] = class_frequency"
   ]
  },
  {
   "cell_type": "code",
   "execution_count": 34,
   "metadata": {},
   "outputs": [],
   "source": [
    "puccinia_striiformis_uniq_df_trim = puccinia_striiformis_uniq_df[puccinia_striiformis_uniq_df.phylum.str.contains('Basidiomycota')]\n",
    "candida_orthopsilosis_uniq_df_trim = candida_orthopsilosis_uniq_df[candida_orthopsilosis_uniq_df.phylum.str.contains('Ascomycota')]\n",
    "candida_albicans_uniq_df_trim = candida_albicans_uniq_df[candida_albicans_uniq_df.phylum.str.contains('Ascomycota')]\n",
    "aspergillus_niger_uniq_df_trim = aspergillus_niger_uniq_df[aspergillus_niger_uniq_df.phylum.str.contains('Ascomycota')]\n",
    "candida_metapsilosis_uniq_df_trim = candida_metapsilosis_uniq_df[candida_metapsilosis_uniq_df.phylum.str.contains('Ascomycota')]\n",
    "diaporthe_ccl067_uniq_df_trim = diaporthe_ccl067_uniq_df[diaporthe_ccl067_uniq_df.phylum.str.contains('Ascomycota')]\n",
    "aspergillus_flavus_uniq_df_trim = aspergillus_flavus_uniq_df[aspergillus_flavus_uniq_df.phylum.str.contains('Ascomycota')]\n",
    "pyrenophora_tritici_uniq_df_trim = pyrenophora_tritici_uniq_df[pyrenophora_tritici_uniq_df.phylum.str.contains('Ascomycota')]\n",
    "wheat_zymoseptoria_tritici_uniq_df_trim = wheat_zymoseptoria_tritici_uniq_df[wheat_zymoseptoria_tritici_uniq_df.phylum.str.contains('Ascomycota')]\n",
    "wheat_pyrenophora_tritici_uniq_df_trim = wheat_pyrenophora_tritici_uniq_df[wheat_pyrenophora_tritici_uniq_df.phylum.str.contains('Ascomycota')]\n",
    "diaporthe_unidentified_uniq_df_trim = diaporthe_unidentified_uniq_df[diaporthe_unidentified_uniq_df.phylum.str.contains('Ascomycota')]\n",
    "scedosporium_boydii_uniq_df_trim = scedosporium_boydii_uniq_df[scedosporium_boydii_uniq_df.phylum.str.contains('Ascomycota')]\n",
    "saccharomyces_cerevisiae_uniq_df_trim = saccharomyces_cerevisiae_uniq_df[saccharomyces_cerevisiae_uniq_df.phylum.str.contains('Ascomycota')]\n",
    "zymoseptoria_tritici_uniq_df_trim = zymoseptoria_tritici_uniq_df[zymoseptoria_tritici_uniq_df.phylum.str.contains('Ascomycota')]\n",
    "rhodotorula_mucilaginosa_uniq_df_trim = rhodotorula_mucilaginosa_uniq_df[rhodotorula_mucilaginosa_uniq_df.phylum.str.contains('Basidiomycota')]\n",
    "wheat_puccinia_striiformis_uniq_df_trim = wheat_puccinia_striiformis_uniq_df[wheat_puccinia_striiformis_uniq_df.phylum.str.contains('Basidiomycota')]"
   ]
  },
  {
   "cell_type": "code",
   "execution_count": 35,
   "metadata": {},
   "outputs": [],
   "source": [
    "df_uniq_trim_list = [puccinia_striiformis_uniq_df_trim, candida_orthopsilosis_uniq_df_trim, \n",
    "                     candida_albicans_uniq_df_trim, aspergillus_niger_uniq_df_trim,\n",
    "                     candida_metapsilosis_uniq_df_trim, diaporthe_ccl067_uniq_df_trim, \n",
    "                     aspergillus_flavus_uniq_df_trim, pyrenophora_tritici_uniq_df_trim,\n",
    "                     wheat_zymoseptoria_tritici_uniq_df_trim, wheat_pyrenophora_tritici_uniq_df_trim,\n",
    "                     diaporthe_unidentified_uniq_df_trim, scedosporium_boydii_uniq_df_trim, \n",
    "                     saccharomyces_cerevisiae_uniq_df_trim, zymoseptoria_tritici_uniq_df_trim, \n",
    "                     rhodotorula_mucilaginosa_uniq_df_trim, wheat_puccinia_striiformis_uniq_df_trim]"
   ]
  },
  {
   "cell_type": "code",
   "execution_count": 36,
   "metadata": {},
   "outputs": [],
   "source": [
    "phylum_frequency = [len(x)/1000 for x in df_uniq_trim_list]"
   ]
  },
  {
   "cell_type": "code",
   "execution_count": 37,
   "metadata": {},
   "outputs": [],
   "source": [
    "final_df['phylum_accuracy'] = phylum_frequency"
   ]
  },
  {
   "cell_type": "code",
   "execution_count": null,
   "metadata": {},
   "outputs": [],
   "source": [
    "final_df.to_csv(os.path.join(sourcedir, 'rank_accuracy_ncbiITS.txt'), sep='\\t', header=True)"
   ]
  },
  {
   "cell_type": "code",
   "execution_count": 38,
   "metadata": {},
   "outputs": [
    {
     "data": {
      "text/html": [
       "<div>\n",
       "<style scoped>\n",
       "    .dataframe tbody tr th:only-of-type {\n",
       "        vertical-align: middle;\n",
       "    }\n",
       "\n",
       "    .dataframe tbody tr th {\n",
       "        vertical-align: top;\n",
       "    }\n",
       "\n",
       "    .dataframe thead th {\n",
       "        text-align: right;\n",
       "    }\n",
       "</style>\n",
       "<table border=\"1\" class=\"dataframe\">\n",
       "  <thead>\n",
       "    <tr style=\"text-align: right;\">\n",
       "      <th></th>\n",
       "      <th>samples</th>\n",
       "      <th>species_accuracy</th>\n",
       "      <th>genus_accuracy</th>\n",
       "      <th>family_accuracy</th>\n",
       "      <th>order_accuracy</th>\n",
       "      <th>class_accuracy</th>\n",
       "      <th>phylum_accuracy</th>\n",
       "    </tr>\n",
       "  </thead>\n",
       "  <tbody>\n",
       "    <tr>\n",
       "      <th>0</th>\n",
       "      <td>puccinia_striiformis</td>\n",
       "      <td>0.000</td>\n",
       "      <td>0.623</td>\n",
       "      <td>0.641</td>\n",
       "      <td>0.666</td>\n",
       "      <td>0.666</td>\n",
       "      <td>0.713</td>\n",
       "    </tr>\n",
       "    <tr>\n",
       "      <th>1</th>\n",
       "      <td>candida_orthopsilosis</td>\n",
       "      <td>0.481</td>\n",
       "      <td>0.660</td>\n",
       "      <td>0.679</td>\n",
       "      <td>0.782</td>\n",
       "      <td>0.782</td>\n",
       "      <td>0.868</td>\n",
       "    </tr>\n",
       "    <tr>\n",
       "      <th>2</th>\n",
       "      <td>candida_albicans</td>\n",
       "      <td>0.282</td>\n",
       "      <td>0.484</td>\n",
       "      <td>0.513</td>\n",
       "      <td>0.770</td>\n",
       "      <td>0.770</td>\n",
       "      <td>0.830</td>\n",
       "    </tr>\n",
       "    <tr>\n",
       "      <th>3</th>\n",
       "      <td>aspergillus_niger</td>\n",
       "      <td>0.000</td>\n",
       "      <td>0.730</td>\n",
       "      <td>0.790</td>\n",
       "      <td>0.799</td>\n",
       "      <td>0.847</td>\n",
       "      <td>0.934</td>\n",
       "    </tr>\n",
       "    <tr>\n",
       "      <th>4</th>\n",
       "      <td>candida_metapsilosis</td>\n",
       "      <td>0.007</td>\n",
       "      <td>0.646</td>\n",
       "      <td>0.666</td>\n",
       "      <td>0.794</td>\n",
       "      <td>0.794</td>\n",
       "      <td>0.869</td>\n",
       "    </tr>\n",
       "    <tr>\n",
       "      <th>5</th>\n",
       "      <td>diaporthe_ccl067</td>\n",
       "      <td>0.000</td>\n",
       "      <td>0.002</td>\n",
       "      <td>0.002</td>\n",
       "      <td>0.803</td>\n",
       "      <td>0.860</td>\n",
       "      <td>0.935</td>\n",
       "    </tr>\n",
       "    <tr>\n",
       "      <th>6</th>\n",
       "      <td>aspergillus_flavus</td>\n",
       "      <td>0.004</td>\n",
       "      <td>0.770</td>\n",
       "      <td>0.813</td>\n",
       "      <td>0.823</td>\n",
       "      <td>0.864</td>\n",
       "      <td>0.934</td>\n",
       "    </tr>\n",
       "    <tr>\n",
       "      <th>7</th>\n",
       "      <td>pyrenophora_tritici-repentis</td>\n",
       "      <td>0.000</td>\n",
       "      <td>0.456</td>\n",
       "      <td>0.625</td>\n",
       "      <td>0.659</td>\n",
       "      <td>0.696</td>\n",
       "      <td>0.853</td>\n",
       "    </tr>\n",
       "    <tr>\n",
       "      <th>8</th>\n",
       "      <td>wheat_zymoseptoria_tritici</td>\n",
       "      <td>0.173</td>\n",
       "      <td>0.210</td>\n",
       "      <td>0.340</td>\n",
       "      <td>0.353</td>\n",
       "      <td>0.428</td>\n",
       "      <td>0.532</td>\n",
       "    </tr>\n",
       "    <tr>\n",
       "      <th>9</th>\n",
       "      <td>wheat_pyrenophora_tritici-repentis</td>\n",
       "      <td>0.000</td>\n",
       "      <td>0.203</td>\n",
       "      <td>0.272</td>\n",
       "      <td>0.299</td>\n",
       "      <td>0.310</td>\n",
       "      <td>0.379</td>\n",
       "    </tr>\n",
       "    <tr>\n",
       "      <th>10</th>\n",
       "      <td>diaporthe_unidentified</td>\n",
       "      <td>0.000</td>\n",
       "      <td>0.649</td>\n",
       "      <td>0.650</td>\n",
       "      <td>0.714</td>\n",
       "      <td>0.817</td>\n",
       "      <td>0.942</td>\n",
       "    </tr>\n",
       "    <tr>\n",
       "      <th>11</th>\n",
       "      <td>scedosporium_boydii</td>\n",
       "      <td>0.000</td>\n",
       "      <td>0.150</td>\n",
       "      <td>0.727</td>\n",
       "      <td>0.739</td>\n",
       "      <td>0.817</td>\n",
       "      <td>0.916</td>\n",
       "    </tr>\n",
       "    <tr>\n",
       "      <th>12</th>\n",
       "      <td>saccharomyces_cerevisiae</td>\n",
       "      <td>0.456</td>\n",
       "      <td>0.814</td>\n",
       "      <td>0.834</td>\n",
       "      <td>0.864</td>\n",
       "      <td>0.864</td>\n",
       "      <td>0.898</td>\n",
       "    </tr>\n",
       "    <tr>\n",
       "      <th>13</th>\n",
       "      <td>zymoseptoria_tritici</td>\n",
       "      <td>0.288</td>\n",
       "      <td>0.359</td>\n",
       "      <td>0.609</td>\n",
       "      <td>0.630</td>\n",
       "      <td>0.690</td>\n",
       "      <td>0.869</td>\n",
       "    </tr>\n",
       "    <tr>\n",
       "      <th>14</th>\n",
       "      <td>rhodotorula_mucilaginosa</td>\n",
       "      <td>0.000</td>\n",
       "      <td>0.751</td>\n",
       "      <td>0.778</td>\n",
       "      <td>0.778</td>\n",
       "      <td>0.000</td>\n",
       "      <td>0.859</td>\n",
       "    </tr>\n",
       "    <tr>\n",
       "      <th>15</th>\n",
       "      <td>wheat_puccinia_striiformis</td>\n",
       "      <td>0.000</td>\n",
       "      <td>0.005</td>\n",
       "      <td>0.005</td>\n",
       "      <td>0.005</td>\n",
       "      <td>0.005</td>\n",
       "      <td>0.316</td>\n",
       "    </tr>\n",
       "  </tbody>\n",
       "</table>\n",
       "</div>"
      ],
      "text/plain": [
       "                               samples  species_accuracy  genus_accuracy  \\\n",
       "0                 puccinia_striiformis             0.000           0.623   \n",
       "1                candida_orthopsilosis             0.481           0.660   \n",
       "2                     candida_albicans             0.282           0.484   \n",
       "3                    aspergillus_niger             0.000           0.730   \n",
       "4                 candida_metapsilosis             0.007           0.646   \n",
       "5                     diaporthe_ccl067             0.000           0.002   \n",
       "6                   aspergillus_flavus             0.004           0.770   \n",
       "7         pyrenophora_tritici-repentis             0.000           0.456   \n",
       "8           wheat_zymoseptoria_tritici             0.173           0.210   \n",
       "9   wheat_pyrenophora_tritici-repentis             0.000           0.203   \n",
       "10              diaporthe_unidentified             0.000           0.649   \n",
       "11                 scedosporium_boydii             0.000           0.150   \n",
       "12            saccharomyces_cerevisiae             0.456           0.814   \n",
       "13                zymoseptoria_tritici             0.288           0.359   \n",
       "14            rhodotorula_mucilaginosa             0.000           0.751   \n",
       "15          wheat_puccinia_striiformis             0.000           0.005   \n",
       "\n",
       "    family_accuracy  order_accuracy  class_accuracy  phylum_accuracy  \n",
       "0             0.641           0.666           0.666            0.713  \n",
       "1             0.679           0.782           0.782            0.868  \n",
       "2             0.513           0.770           0.770            0.830  \n",
       "3             0.790           0.799           0.847            0.934  \n",
       "4             0.666           0.794           0.794            0.869  \n",
       "5             0.002           0.803           0.860            0.935  \n",
       "6             0.813           0.823           0.864            0.934  \n",
       "7             0.625           0.659           0.696            0.853  \n",
       "8             0.340           0.353           0.428            0.532  \n",
       "9             0.272           0.299           0.310            0.379  \n",
       "10            0.650           0.714           0.817            0.942  \n",
       "11            0.727           0.739           0.817            0.916  \n",
       "12            0.834           0.864           0.864            0.898  \n",
       "13            0.609           0.630           0.690            0.869  \n",
       "14            0.778           0.778           0.000            0.859  \n",
       "15            0.005           0.005           0.005            0.316  "
      ]
     },
     "execution_count": 38,
     "metadata": {},
     "output_type": "execute_result"
    }
   ],
   "source": [
    "final_df"
   ]
  },
  {
   "cell_type": "code",
   "execution_count": null,
   "metadata": {},
   "outputs": [],
   "source": []
  }
 ],
 "metadata": {
  "kernelspec": {
   "display_name": "Python 3",
   "language": "python",
   "name": "python3"
  },
  "language_info": {
   "codemirror_mode": {
    "name": "ipython",
    "version": 3
   },
   "file_extension": ".py",
   "mimetype": "text/x-python",
   "name": "python",
   "nbconvert_exporter": "python",
   "pygments_lexer": "ipython3",
   "version": "3.7.3"
  }
 },
 "nbformat": 4,
 "nbformat_minor": 4
}
